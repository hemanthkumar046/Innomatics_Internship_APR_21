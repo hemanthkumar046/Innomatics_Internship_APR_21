{
 "cells": [
  {
   "cell_type": "markdown",
   "metadata": {},
   "source": [
    "## Detect Floating Point Number"
   ]
  },
  {
   "cell_type": "code",
   "execution_count": 1,
   "metadata": {},
   "outputs": [
    {
     "name": "stdout",
     "output_type": "stream",
     "text": [
      "4\n",
      "4.0O0\n",
      "False\n",
      "-1.00\n",
      "True\n",
      "+4.54\n",
      "True\n",
      "SomeRandomStuff\n",
      "False\n"
     ]
    }
   ],
   "source": [
    "import re\n",
    "n = int(input())\n",
    "pattern = r'^[+-]?[0-9]*\\.[0-9]+$'\n",
    "for i in range(n):\n",
    "    s = input()\n",
    "    print(bool(re.match(pattern,s)))"
   ]
  },
  {
   "cell_type": "markdown",
   "metadata": {},
   "source": [
    "## Re.split()"
   ]
  },
  {
   "cell_type": "code",
   "execution_count": 2,
   "metadata": {},
   "outputs": [
    {
     "name": "stdout",
     "output_type": "stream",
     "text": [
      "100,000,000.000\n",
      "100\n",
      "000\n",
      "000\n",
      "000\n"
     ]
    }
   ],
   "source": [
    "regex_pattern = r\"[,.]+\"\t# Do not delete 'r'.\n",
    "\n",
    "import re\n",
    "print(\"\\n\".join(re.split(regex_pattern, input())))"
   ]
  },
  {
   "cell_type": "markdown",
   "metadata": {},
   "source": [
    "## Re.findall() & Re.finditer()"
   ]
  },
  {
   "cell_type": "code",
   "execution_count": 4,
   "metadata": {},
   "outputs": [
    {
     "name": "stdout",
     "output_type": "stream",
     "text": [
      "rabcdeefgyYhFjkIoomnpOeorteeeeet\n",
      "ee\n",
      "Ioo\n",
      "Oeo\n",
      "eeeee\n"
     ]
    }
   ],
   "source": [
    "import re\n",
    "s = input()\n",
    "v = 'aeiou'\n",
    "c = 'qwrtypsdfghjklzxcvbnm'\n",
    "\n",
    "l = re.findall(r\"(?<=[%s])([%s]{2,})[%s]\" % (c,v,c), s, flags = re.IGNORECASE)\n",
    "\n",
    "if not l:\n",
    "    print(-1)\n",
    "else:\n",
    "    for i in l:\n",
    "        print(i)"
   ]
  },
  {
   "cell_type": "markdown",
   "metadata": {},
   "source": [
    "## Re.start() & Re.end()"
   ]
  },
  {
   "cell_type": "code",
   "execution_count": 1,
   "metadata": {},
   "outputs": [
    {
     "name": "stdout",
     "output_type": "stream",
     "text": [
      "aadaa\n",
      "aa\n",
      "(0,1)\n",
      "(3,4)\n"
     ]
    }
   ],
   "source": [
    "import re\n",
    "s = input()\n",
    "k = input()\n",
    "pattern = re.compile(k)\n",
    "m = pattern.search(s)\n",
    "if not m:\n",
    "    print(\"(-1,-1)\")\n",
    "else:\n",
    "    while m:\n",
    "        print('({0},{1})'.format(m.start(), m.end() - 1))\n",
    "        m = pattern.search(s, m.start()+1)"
   ]
  },
  {
   "cell_type": "markdown",
   "metadata": {},
   "source": [
    "## Group(), Groups() & Groupdict()"
   ]
  },
  {
   "cell_type": "code",
   "execution_count": 2,
   "metadata": {},
   "outputs": [
    {
     "name": "stdout",
     "output_type": "stream",
     "text": [
      "..12345678910111213141516171820212223\n",
      "1\n"
     ]
    }
   ],
   "source": [
    "\n",
    "import re\n",
    "s = input()\n",
    "pattern = r'([a-z A-Z 0-9])\\1'\n",
    "m = re.search(pattern, s)\n",
    "if m:\n",
    "    print(m.groups()[0])\n",
    "else:\n",
    "    print(-1)\n"
   ]
  },
  {
   "cell_type": "markdown",
   "metadata": {},
   "source": [
    "## Validating and Parsing Email Addresses "
   ]
  },
  {
   "cell_type": "code",
   "execution_count": 1,
   "metadata": {},
   "outputs": [
    {
     "name": "stdout",
     "output_type": "stream",
     "text": [
      "2\n",
      "DEXTER <dexter@hotmail.com>\n",
      "DEXTER <dexter@hotmail.com>\n",
      "VIRUS <virus!@variable.:p>\n"
     ]
    }
   ],
   "source": [
    "# Enter your code here. Read input from STDIN. Print output to STDOUT\n",
    "import re\n",
    "import email.utils \n",
    "\n",
    "N = int(input())\n",
    "\n",
    "pattern = r'^[a-z][\\w\\-\\.]+@[a-z]+\\.[a-z]{1,3}$'\n",
    "for i in range(0, N):\n",
    "    parsed_addr = email.utils.parseaddr(input())\n",
    "    if re.search(pattern, parsed_addr[1]):\n",
    "        print(email.utils.formataddr(parsed_addr)) "
   ]
  },
  {
   "cell_type": "markdown",
   "metadata": {},
   "source": [
    "## Validating Roman Numerals"
   ]
  },
  {
   "cell_type": "code",
   "execution_count": 4,
   "metadata": {},
   "outputs": [
    {
     "name": "stdout",
     "output_type": "stream",
     "text": [
      "CDXXI\n",
      "True\n"
     ]
    }
   ],
   "source": [
    "regex_pattern = r\"^M{0,3}(CM|CD|D?C{0,3})(XC|XL|L?X{0,3})(IX|IV|V?I{0,3})$\"\n",
    "\n",
    "import re\n",
    "print(str(bool(re.match(regex_pattern, input()))))"
   ]
  },
  {
   "cell_type": "markdown",
   "metadata": {},
   "source": [
    "## Validating phone numbers"
   ]
  },
  {
   "cell_type": "code",
   "execution_count": 3,
   "metadata": {},
   "outputs": [
    {
     "name": "stdout",
     "output_type": "stream",
     "text": [
      "2\n",
      "9587456281\n",
      "YES\n",
      "1252478965\n",
      "NO\n"
     ]
    }
   ],
   "source": [
    "import re\n",
    "def checker(contact):\n",
    "    pattern = r'[789]\\d{9}$'\n",
    "    if re.match(pattern,contact):\n",
    "        return \"YES\"\n",
    "    else:\n",
    "        return \"NO\"\n",
    "n = int(input())\n",
    "for i in range(n):\n",
    "    print(checker(input()))"
   ]
  },
  {
   "cell_type": "markdown",
   "metadata": {},
   "source": [
    "## Validating UID "
   ]
  },
  {
   "cell_type": "code",
   "execution_count": 6,
   "metadata": {},
   "outputs": [
    {
     "name": "stdout",
     "output_type": "stream",
     "text": [
      "2\n",
      "B1CD102354\n",
      "Invalid\n",
      "B1CDEF2354\n",
      "Valid\n"
     ]
    }
   ],
   "source": [
    "n = int(input())\n",
    "for i in range(n):\n",
    "    a = str(input())\n",
    "    c = 0\n",
    "    for i in a:\n",
    "        if(i.isupper()):\n",
    "            c += 1\n",
    "    if(c>1):\n",
    "        d = 0\n",
    "        for j in a:\n",
    "            if(j.isnumeric()):\n",
    "                d +=1\n",
    "        if(d > 2):\n",
    "            if(a.isalnum()):\n",
    "                if(len(a) == 10):\n",
    "                    t = 0\n",
    "                    for k in a:\n",
    "                        for h in a:\n",
    "                            if(k == h):\n",
    "                                t += 1\n",
    "                    if(t == 10):\n",
    "                        print(\"Valid\")\n",
    "                    else:\n",
    "                        print(\"Invalid\")\n",
    "                else:\n",
    "                    print(\"Invalid\")\n",
    "            else:\n",
    "                print(\"Invalid\")\n",
    "        else:\n",
    "            print(\"Invalid\")\n",
    "    else:\n",
    "        print(\"Invalid\")"
   ]
  },
  {
   "cell_type": "markdown",
   "metadata": {},
   "source": [
    "## Validating Credit Card Numbers"
   ]
  },
  {
   "cell_type": "code",
   "execution_count": 2,
   "metadata": {},
   "outputs": [
    {
     "name": "stdout",
     "output_type": "stream",
     "text": [
      "6\n",
      "4123456789123456\n",
      "Valid\n",
      "5123-4567-8912-3456\n",
      "Valid\n",
      "61234-567-8912-3456\n",
      "Invalid\n",
      "4123356789123456\n",
      "Valid\n",
      "5133-3367-8912-3456\n",
      "Invalid\n",
      "5123 - 3567 - 8912 - 3456\n",
      "Invalid\n"
     ]
    }
   ],
   "source": [
    "import re\n",
    "\n",
    "N = int(input())\n",
    "\n",
    "structure_check = r'[456]\\d{3}(-?\\d{4}){3}$'\n",
    "no_four_repeats = r'((\\d)-?(?!(-?\\2){3})){16}'\n",
    "filters = structure_check, no_four_repeats\n",
    "for i in range(0, N):\n",
    "    cc_num = input()\n",
    "    print('Valid') if all(re.match(f, cc_num) for f in filters) else print('Invalid')"
   ]
  },
  {
   "cell_type": "markdown",
   "metadata": {},
   "source": [
    "## Validating Postal Codes"
   ]
  },
  {
   "cell_type": "code",
   "execution_count": 4,
   "metadata": {},
   "outputs": [
    {
     "name": "stdout",
     "output_type": "stream",
     "text": [
      "110000\n",
      "False\n"
     ]
    }
   ],
   "source": [
    "regex_integer_in_range = r\"^[1-9][\\d]{5}$\"\t# Do not delete 'r'.\n",
    "regex_alternating_repetitive_digit_pair = r\"(\\d)(?=\\d\\1)\"\t# Do not delete 'r'.\n",
    "\n",
    "\n",
    "import re\n",
    "P = input()\n",
    "\n",
    "print (bool(re.match(regex_integer_in_range, P)) \n",
    "and len(re.findall(regex_alternating_repetitive_digit_pair, P)) < 2)"
   ]
  },
  {
   "cell_type": "markdown",
   "metadata": {},
   "source": [
    "## Regex Substitution"
   ]
  },
  {
   "cell_type": "code",
   "execution_count": 3,
   "metadata": {},
   "outputs": [
    {
     "name": "stdout",
     "output_type": "stream",
     "text": [
      "11\n",
      "a = 1;\n",
      "a = 1;\n",
      "b = input();\n",
      "b = input();\n",
      "if a + b > 0 && a - b < 0:\n",
      "if a + b > 0 and a - b < 0:\n",
      "    start()\n",
      "    start()\n",
      "elif a*b > 10 || a/b < 1:\n",
      "elif a*b > 10 or a/b < 1:\n",
      "    stop()\n",
      "    stop()\n",
      "print set(list(a)) | set(list(b)) \n",
      "print set(list(a)) | set(list(b)) \n",
      "#Note do not change &&& or ||| or & or |\n",
      "#Note do not change &&& or ||| or & or |\n",
      "#Only change those '&&' which have space on both sides.\n",
      "#Only change those '&&' which have space on both sides.\n",
      "#Only change those '|| which have space on both sides.\n",
      "#Only change those '|| which have space on both sides.\n",
      "\n",
      "\n"
     ]
    }
   ],
   "source": [
    "N = int(input())\n",
    "for i in range(N):\n",
    "    line = input()\n",
    "    while(' && ' in line) or (' || ' in line):\n",
    "        line = line.replace(' && ', ' and ')\n",
    "        line = line.replace(' || ', ' or ')\n",
    "    print(line)"
   ]
  },
  {
   "cell_type": "markdown",
   "metadata": {},
   "source": [
    "## Matrix Script"
   ]
  },
  {
   "cell_type": "code",
   "execution_count": 7,
   "metadata": {},
   "outputs": [
    {
     "name": "stdout",
     "output_type": "stream",
     "text": [
      "7 3\n",
      "Tsi\n",
      "h%x\n",
      "i #\n",
      "sM \n",
      "$a\n",
      "#t%\n",
      "ir!\n",
      "This is Matr\n"
     ]
    }
   ],
   "source": [
    "import re\n",
    "\n",
    "n,m = map(int, input().split())\n",
    "l = list()\n",
    "for i in range(n):\n",
    "    l.append(input())\n",
    "#print(l)\n",
    "l = list(zip(*l))\n",
    "#print(l)\n",
    "s = ''\n",
    "for i in l:\n",
    "    s = s+''.join(i)\n",
    "#print(s)\n",
    "s = re.sub(r'\\b[^a-zA-Z0-9]+\\b',r' ',s)\n",
    "print(s)"
   ]
  },
  {
   "cell_type": "markdown",
   "metadata": {},
   "source": [
    "## Hex Color Code"
   ]
  },
  {
   "cell_type": "code",
   "execution_count": 5,
   "metadata": {},
   "outputs": [
    {
     "name": "stdout",
     "output_type": "stream",
     "text": [
      "11\n",
      "#BED\n",
      "{\n",
      "    color: #FfFdF8; background-color:#aef;\n",
      "#FfFdF8\n",
      "#aef\n",
      "    font-size: 123px;\n",
      "    background: -webkit-linear-gradient(top, #f9f9f9, #fff);\n",
      "#f9f9f9\n",
      "#fff\n",
      "}\n",
      "#Cab\n",
      "{\n",
      "    background-color: #ABC;\n",
      "#ABC\n",
      "    border: 2px dashed #fff;\n",
      "#fff\n",
      "}\n"
     ]
    }
   ],
   "source": [
    "import re\n",
    "\n",
    "for i in range(int(input())): \n",
    "    match = re.findall(r\"(\\#[a-f0-9]{3,6})[\\;\\,\\)]{1}\", input(), re.I) \n",
    "    if match:\n",
    "        for j in list(match):\n",
    "            print(j)"
   ]
  },
  {
   "cell_type": "markdown",
   "metadata": {},
   "source": [
    "## HTML Parser - Part 1"
   ]
  },
  {
   "cell_type": "code",
   "execution_count": 4,
   "metadata": {},
   "outputs": [
    {
     "name": "stdout",
     "output_type": "stream",
     "text": [
      "2\n",
      "<html><head><title>HTML Parser - I</title></head>\n",
      "<body data-modal-target class='1'><h1>HackerRank</h1><br /></body></html>\n",
      "Start : html\n",
      "Start : head\n",
      "Start : title\n",
      "End   : title\n",
      "End   : head\n",
      "Start : body\n",
      "-> data-modal-target > None\n",
      "-> class > 1\n",
      "Start : h1\n",
      "End   : h1\n",
      "Empty : br\n",
      "End   : body\n",
      "End   : html\n"
     ]
    }
   ],
   "source": [
    "from html.parser import HTMLParser\n",
    "\n",
    "class MyHTMLParser(HTMLParser):\n",
    "    \n",
    "    def handle_starttag(self, tag, attrs):\n",
    "        print('Start :', tag)\n",
    "        for attr in attrs:\n",
    "            print ('->', ' > '.join(map(str, attr)))\n",
    "            \n",
    "    def handle_endtag(self, tag):\n",
    "        print('End   :', tag)\n",
    "        \n",
    "    def handle_startendtag(self, tag, attrs):\n",
    "        print('Empty :', tag)\n",
    "        for attr in attrs:\n",
    "            print('->', ' > '.join(map(str, attr)))\n",
    "            \n",
    "html = \"\"\n",
    "for i in range(int(input())):\n",
    "    html += input()\n",
    "    \n",
    "parser = MyHTMLParser()\n",
    "parser.feed(html)\n",
    "parser.close()"
   ]
  },
  {
   "cell_type": "markdown",
   "metadata": {},
   "source": [
    "## HTML Parser - Part 2"
   ]
  },
  {
   "cell_type": "code",
   "execution_count": 3,
   "metadata": {},
   "outputs": [
    {
     "name": "stdout",
     "output_type": "stream",
     "text": [
      "4\n",
      "<!--[if IE 9]>IE9-specific content\n",
      "<![endif]-->\n",
      "<div> Welcome to HackerRank</div>\n",
      "<!--[if IE 9]>IE9-specific content<![endif]-->\n",
      ">>> Multi-line Comment\n",
      "[if IE 9]>IE9-specific content\n",
      "<![endif]\n",
      ">>> Data\n",
      " Welcome to HackerRank\n",
      ">>> Single-line Comment\n",
      "[if IE 9]>IE9-specific content<![endif]\n"
     ]
    }
   ],
   "source": [
    "from html.parser import HTMLParser\n",
    "\n",
    "class MyHTMLParser(HTMLParser):\n",
    "    \n",
    "    def handle_comment(self, data):\n",
    "        if data != '\\n':\n",
    "            if '\\n' not in data:\n",
    "                print(\">>> Single-line Comment\")\n",
    "                print(data)\n",
    "            else:\n",
    "                print(\">>> Multi-line Comment\")\n",
    "                print(data)\n",
    "        \n",
    "    def handle_data(self, data):\n",
    "        if data != '\\n':\n",
    "            print(\">>> Data\")\n",
    "            print(data)\n",
    "            \n",
    "html = \"\"\n",
    "for i in range(int(input())):\n",
    "    html += input().rstrip()\n",
    "    html += '\\n'\n",
    "    \n",
    "parser = MyHTMLParser()\n",
    "parser.feed(html)\n",
    "parser.close()"
   ]
  },
  {
   "cell_type": "markdown",
   "metadata": {},
   "source": [
    "## Detect HTML Tags, Attributes and Attribute Values"
   ]
  },
  {
   "cell_type": "code",
   "execution_count": 2,
   "metadata": {},
   "outputs": [
    {
     "name": "stdout",
     "output_type": "stream",
     "text": [
      "9\n",
      "<head>\n",
      "<title>HTML</title>\n",
      "</head>\n",
      "<object type=\"application/x-flash\" \n",
      "  data=\"your-file.swf\" \n",
      "  width=\"0\" height=\"0\">\n",
      "  <!-- <param name=\"movie\" value=\"your-file.swf\" /> -->\n",
      "  <param name=\"quality\" value=\"high\"/>\n",
      "</object>\n",
      "head\n",
      "title\n",
      "object\n",
      "-> type > application/x-flash\n",
      "-> data > your-file.swf\n",
      "-> width > 0\n",
      "-> height > 0\n",
      "param\n",
      "-> name > quality\n",
      "-> value > high\n"
     ]
    }
   ],
   "source": [
    "from html.parser import HTMLParser\n",
    "\n",
    "class MyHTMLParser(HTMLParser):\n",
    "    \n",
    "    def handle_starttag(self, tag, attrs):\n",
    "        print(tag)\n",
    "        for at in attrs:\n",
    "            print ('-> {} > {}'.format(at[0], at[1]))\n",
    "\n",
    "        \n",
    "    def handle_startendtag(self, tag, attrs):\n",
    "        print(tag)\n",
    "        for at in attrs:\n",
    "            print ('-> {} > {}'.format(at[0], at[1]))\n",
    "\n",
    "            \n",
    "html = \"\"\n",
    "for i in range(int(input())):\n",
    "    html += input().rstrip()\n",
    "    html += '\\n'\n",
    "    \n",
    "parser = MyHTMLParser()\n",
    "parser.feed(html)\n",
    "parser.close()"
   ]
  },
  {
   "cell_type": "code",
   "execution_count": null,
   "metadata": {},
   "outputs": [],
   "source": []
  }
 ],
 "metadata": {
  "kernelspec": {
   "display_name": "Python 3",
   "language": "python",
   "name": "python3"
  },
  "language_info": {
   "codemirror_mode": {
    "name": "ipython",
    "version": 3
   },
   "file_extension": ".py",
   "mimetype": "text/x-python",
   "name": "python",
   "nbconvert_exporter": "python",
   "pygments_lexer": "ipython3",
   "version": "3.7.6"
  }
 },
 "nbformat": 4,
 "nbformat_minor": 4
}
