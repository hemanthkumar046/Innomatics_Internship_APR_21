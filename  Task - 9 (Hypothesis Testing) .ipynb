{
 "cells": [
  {
   "cell_type": "code",
   "execution_count": 10,
   "metadata": {},
   "outputs": [],
   "source": [
    "import numpy as np\n",
    "import matplotlib.pyplot as plt\n",
    "from scipy.stats import norm, t"
   ]
  },
  {
   "cell_type": "code",
   "execution_count": 18,
   "metadata": {},
   "outputs": [],
   "source": [
    "def standard_deviation(data):\n",
    "    length=len(data)\n",
    "    sum_of_data=sum(data)\n",
    "    mean=sum_of_data/length\n",
    "    sum_var=0\n",
    "    for i in data:\n",
    "        sum_square=(i-mean)**2\n",
    "        sum_var+=sum_square\n",
    "    return (sum_var/length)**0.5\n",
    "\n",
    "def t_score(sample_mean,pop_mean,sample_std,sample_size):\n",
    "    numerator=sample_mean-pop_mean\n",
    "    denominator=sample_std/sample_size**0.5\n",
    "    return numerator/denominator"
   ]
  },
  {
   "cell_type": "markdown",
   "metadata": {},
   "source": [
    "<h2>Understanding the Hypothesis Testing</h2>"
   ]
  },
  {
   "cell_type": "markdown",
   "metadata": {},
   "source": [
    "Step - 1:     \n",
    "Alternate Hypothesis (Bold claim): $H_{1}\\Rightarrow\\,\\ \\geq,\\ \\leq,\\ =$      \n",
    "Null Hypothesis (Status Quo): $H_{0}\\Rightarrow\\,\\ \\geq,\\ \\leq,\\ =$"
   ]
  },
  {
   "cell_type": "markdown",
   "metadata": {},
   "source": [
    "Step-2:\n",
    "\n",
    "<li>Collect a sample size n</li>\n",
    "   <li>Compute the mean of the sample"
   ]
  },
  {
   "cell_type": "markdown",
   "metadata": {},
   "source": [
    "Step-3:  \n",
    "\n",
    "Compute Test Statistic:\n",
    "\n",
    "<li>If population variance is known $$z=\\frac{\\overline{x}-\\mu}{\\sigma/\\sqrt{n}}$$\n",
    "  <li> If population variance is unknown $$t=\\frac{\\overline{x}-\\mu}{s/\\sqrt{n}}\\ ,\\ s\\ is \\ the\\ sample\\ variance$$\n"
   ]
  },
  {
   "cell_type": "markdown",
   "metadata": {},
   "source": [
    "Step-4: Decide the significance $\\alpha$. Lower $\\alpha$ means you need stronger evidence to reject the null hypothesis."
   ]
  },
  {
   "cell_type": "markdown",
   "metadata": {},
   "source": [
    "Step - 5.1: \n",
    "**Apply decision rule:**    \n",
    "\n",
    "   <p>   </p>    \n",
    "<li>If test statistic is z-score -  </li> \n",
    "Two tailed z-test:\n",
    "$$\\mid z \\mid > z_\\frac{\\alpha}{2} \\Rightarrow Accept \\ H_1 \\ or \\ Reject \\ H_0$$\n",
    "\n",
    "Right tailed z-test: \n",
    "$$ z  > z_\\alpha \\Rightarrow Accept \\ H_1 \\ or \\ Reject \\ H_0$$\n",
    "\n",
    "Left tailed z-test: \n",
    "$$ z  < -z_\\alpha \\Rightarrow Accept \\ H_1 \\ or \\ Reject \\ H_0$$\n",
    "\n",
    "    "
   ]
  },
  {
   "cell_type": "markdown",
   "metadata": {},
   "source": [
    "<li>If test statistic is t-score</li>\n",
    "\n",
    "Two tailed t-test: \n",
    "$$\\mid t \\mid > t_{n-1,\\frac{\\alpha}{2}} \\Rightarrow Accept \\ H_1 \\ or \\ Reject \\ H_0$$\n",
    "\n",
    "Right tailed t-test: \n",
    "$$ t  > t_{n-1,\\alpha} \\Rightarrow Accept \\ H_1 \\ or \\ Reject \\ H_0$$\n",
    "\n",
    "       \n",
    "Left tailed t-test: \n",
    "$$ t  < t_{n-1,\\alpha} \\Rightarrow Accept \\ H_1 \\ or \\ Reject \\ H_0$$"
   ]
  },
  {
   "cell_type": "markdown",
   "metadata": {},
   "source": [
    "Step - 5.2: \n",
    "<li>Compute p-value $ P(Test \\ Statistics | H_0) $</li>\n",
    "\n",
    "For two tailed test: $$ p \\ value = 2 * (1.0 - cdf(test \\ statistic)) $$\n",
    "For one tailed test: $$ p \\ value = (1.0 - cdf(test \\ statistic)) $$\n",
    "\n",
    "\n",
    "$$ if(p \\ value < \\alpha)\\Rightarrow Accept \\ H_1 \\ or \\ Reject \\ H_0$$\n",
    "\n"
   ]
  },
  {
   "cell_type": "markdown",
   "metadata": {},
   "source": [
    "## All the Problems are related to t-statistic"
   ]
  },
  {
   "cell_type": "markdown",
   "metadata": {},
   "source": [
    "**Q-1: Pista House selling Hyderabadi Chicken Dum biryani claims that each parcel packet has 500 grams of biryani (also mentioned on the label of packet). You are sceptic of their claims and believe that on average each packet does not contain 500 grams of biryani. How do you prove your claim?**"
   ]
  },
  {
   "cell_type": "markdown",
   "metadata": {},
   "source": [
    "Step-1:    \n",
    "Alternate Hypothesis (Bold Claim): $$H_{1}: \\mu\\neq 500$$ Null Hypothesis (Status Quo): $$H_{0}: \\mu = 500$$"
   ]
  },
  {
   "cell_type": "markdown",
   "metadata": {},
   "source": [
    "Step - 2:\n",
    "\n",
    "Collect a sample of size n = 10 $$ [490, 220, 470, 500, 495, 496, 496, 498, 508, 480] $$\n",
    "Compute sample mean $$ \\bar{x} \\ = \\ 465.3 $$\n",
    "\n",
    "Step - 3: Compute Test Statistic: $$ t = \\frac{\\bar{x} - \\mu}{s/\\sqrt{n}}$$\n",
    "\n",
    "Step - 4: Decide $ \\alpha $ or significance level\n",
    "\n",
    "Step-5.1:Two tailed t-statistics \n",
    "$$reject \\ H_{0}\\ if \\\\|t|>;t_{n-1,\\frac{\\alpha}{2}}$$\n",
    "\n",
    "Step - 5.2: Compute p-value"
   ]
  },
  {
   "cell_type": "code",
   "execution_count": 12,
   "metadata": {},
   "outputs": [
    {
     "data": {
      "text/plain": [
       "465.3"
      ]
     },
     "execution_count": 12,
     "metadata": {},
     "output_type": "execute_result"
    }
   ],
   "source": [
    "l = [490,220,470,500,495,496,496,498,508,480]\n",
    "sum(l)/len(l)"
   ]
  },
  {
   "cell_type": "code",
   "execution_count": 15,
   "metadata": {},
   "outputs": [
    {
     "name": "stdout",
     "output_type": "stream",
     "text": [
      "1.959963984540054\n"
     ]
    }
   ],
   "source": [
    "# Two Tail - Calculating the z-critical value\n",
    "\n",
    "confidence_level = 0.95\n",
    "\n",
    "alpha = 1 - confidence_level\n",
    "\n",
    "t_critical = t.ppf(1 - alpha/2, df = 9) \n",
    "\n",
    "print(z_critical)"
   ]
  },
  {
   "cell_type": "code",
   "execution_count": 19,
   "metadata": {},
   "outputs": [
    {
     "data": {
      "text/plain": [
       "82.3918078451978"
      ]
     },
     "execution_count": 19,
     "metadata": {},
     "output_type": "execute_result"
    }
   ],
   "source": [
    "#calculating the samples standard deviation\n",
    "\n",
    "standard_deviation(l)"
   ]
  },
  {
   "cell_type": "code",
   "execution_count": 20,
   "metadata": {},
   "outputs": [],
   "source": [
    "# Defining the sample and population parameters\n",
    "\n",
    "sample_size = 10\n",
    "sample_mean = 465.3\n",
    "pop_mean = 500\n",
    "sample_std = 82.3918078451978"
   ]
  },
  {
   "cell_type": "code",
   "execution_count": 21,
   "metadata": {},
   "outputs": [
    {
     "name": "stdout",
     "output_type": "stream",
     "text": [
      "-1.3318197242863192\n"
     ]
    }
   ],
   "source": [
    "#Calculating the t-score\n",
    "\n",
    "t=t_score(sample_mean,pop_mean,sample_std,sample_size)\n",
    "print(t)"
   ]
  },
  {
   "cell_type": "code",
   "execution_count": 22,
   "metadata": {},
   "outputs": [
    {
     "data": {
      "text/plain": [
       "Text(465.3, 0.0007, 'x_bar')"
      ]
     },
     "execution_count": 22,
     "metadata": {},
     "output_type": "execute_result"
    },
    {
     "data": {
      "image/png": "[encoded data removed]",
      "text/plain": [
       "<Figure size 432x288 with 1 Axes>"
      ]
     },
     "metadata": {
      "needs_background": "light"
     },
     "output_type": "display_data"
    }
   ],
   "source": [
    "#Plotting the sampling distributions with rejection regions\n",
    "\n",
    "x_min=400\n",
    "x_max=600\n",
    "\n",
    "mean=pop_mean\n",
    "std=sample_std/sample_size**0.5\n",
    "\n",
    "# Ploting the graph and setting the x limits\n",
    "x=np.linspace(x_min,x_max,100)\n",
    "y=norm.pdf(x,mean,std)\n",
    "plt.xlim(x_min,x_max)\n",
    "plt.plot(x,y)\n",
    "\n",
    "# Computing the left and right critical values (Two tailed Test)\n",
    "t_critical_left = pop_mean + (-t_critical * std)\n",
    "t_critical_right = pop_mean + (t_critical * std)\n",
    "\n",
    "# Shading the left rejection region\n",
    "x1 = np.linspace(x_min, t_critical_left, 100)\n",
    "y1 = norm.pdf(x1, mean, std)\n",
    "plt.fill_between(x1, y1, color='orange')\n",
    "\n",
    "\n",
    "# Shading the right rejection region\n",
    "x2 = np.linspace(t_critical_right, x_max, 100)\n",
    "y2 = norm.pdf(x2, mean, std)\n",
    "plt.fill_between(x2, y2, color='orange')\n",
    "\n",
    "# Ploting the sample mean and concluding the results \n",
    "plt.scatter(sample_mean, 0)\n",
    "plt.annotate(\"x_bar\", (sample_mean, 0.0007))"
   ]
  },
  {
   "cell_type": "code",
   "execution_count": 23,
   "metadata": {},
   "outputs": [
    {
     "name": "stdout",
     "output_type": "stream",
     "text": [
      "Fail to reject the Null Hypothesis\n"
     ]
    }
   ],
   "source": [
    "# Conclusion using t test\n",
    "\n",
    "if(np.abs(t)>t_critical):\n",
    "    print(\"Reject the Null Hypothesis\")\n",
    "else:\n",
    "    print(\"Fail to reject the Null Hypothesis\")"
   ]
  },
  {
   "cell_type": "code",
   "execution_count": 24,
   "metadata": {},
   "outputs": [
    {
     "name": "stdout",
     "output_type": "stream",
     "text": [
      "p_value= 0.18291943486353945\n",
      "Fail to reject Null Hypothesis\n"
     ]
    }
   ],
   "source": [
    "# Conclusion using p test\n",
    "\n",
    "p_value= 2*(1.0-norm.cdf(np.abs(t)))\n",
    "print(\"p_value=\",p_value)\n",
    "\n",
    "if(p_value<alpha):\n",
    "    print(\"Reject Null Hypothesis\")\n",
    "else:\n",
    "    print(\"Fail to reject Null Hypothesis\")"
   ]
  },
  {
   "cell_type": "markdown",
   "metadata": {},
   "source": [
    "**Q-2: You have developed a new Natural Language Processing Algorithms and done a user study. You claim that the average rating given by the users is greater than 4 on a scale of 1 to 5. How do you prove this to your client?**"
   ]
  },
  {
   "cell_type": "markdown",
   "metadata": {},
   "source": [
    "Step-1:    \n",
    "Alternate Hypothesis (Bold Claim): $$H_{1}: \\mu > 4$$ Null Hypothesis (Status Quo): $$H_{0}: \\mu <= 4$$\n",
    "                \n",
    "Step - 2:\n",
    "\n",
    "Collect a sample of size n = 20 $$ [4,3,5,4,5,3,5,5,4,2,4,5,5,4,4,5,4,5,4,5] $$\n",
    "Compute sample mean $$ \\bar{x} \\ = \\ 4.25 $$\n",
    "\n",
    "Step - 3: Compute Test Statistic: $$ t = \\frac{\\bar{x} - \\mu}{s/\\sqrt{n}}$$\n",
    "\n",
    "Step - 4: Decide $ \\alpha $ or significance level\n",
    "\n",
    "Step-5.1:Two tailed t-statistics \n",
    "$$reject \\ H_{0}\\ if \\\\|t|>;t_{n-1,\\alpha}$$\n",
    "\n",
    "Step - 5.2: Compute p-value"
   ]
  },
  {
   "cell_type": "code",
   "execution_count": 32,
   "metadata": {},
   "outputs": [
    {
     "data": {
      "text/plain": [
       "4.25"
      ]
     },
     "execution_count": 32,
     "metadata": {},
     "output_type": "execute_result"
    }
   ],
   "source": [
    "l2 = [4,3,5,4,5,3,5,5,4,2,4,5,5,4,4,5,4,5,4,5]\n",
    "sum(l2)/len(l2)"
   ]
  },
  {
   "cell_type": "code",
   "execution_count": 33,
   "metadata": {},
   "outputs": [
    {
     "name": "stdout",
     "output_type": "stream",
     "text": [
      "1.8331129326536335\n"
     ]
    }
   ],
   "source": [
    "#Right tail test- Calculating the t-critical value\n",
    "\n",
    "from scipy.stats import t\n",
    "\n",
    "confidence_level_2 = 0.95\n",
    "alpha_2 = 1-confidence_level_2\n",
    "t_critical_2 = t.ppf(1-alpha_2, df = 9)\n",
    "print(t_critical_2)"
   ]
  },
  {
   "cell_type": "code",
   "execution_count": 34,
   "metadata": {},
   "outputs": [
    {
     "data": {
      "text/plain": [
       "0.82915619758885"
      ]
     },
     "execution_count": 34,
     "metadata": {},
     "output_type": "execute_result"
    }
   ],
   "source": [
    "standard_deviation(l2)"
   ]
  },
  {
   "cell_type": "code",
   "execution_count": 35,
   "metadata": {},
   "outputs": [],
   "source": [
    "# Defining the sample and population parameters\n",
    "\n",
    "sample_size_2 = 20\n",
    "sample_mean_2 = 4.25\n",
    "pop_mean_2 = 4\n",
    "sample_std_2 = 0.82915619758885"
   ]
  },
  {
   "cell_type": "code",
   "execution_count": 37,
   "metadata": {},
   "outputs": [
    {
     "name": "stdout",
     "output_type": "stream",
     "text": [
      "1.3483997249264843\n"
     ]
    }
   ],
   "source": [
    "# Calculating the t-score\n",
    "\n",
    "t_2 = t_score(sample_mean_2,pop_mean_2,sample_std_2,sample_size_2)\n",
    "print(t_2)"
   ]
  },
  {
   "cell_type": "code",
   "execution_count": 38,
   "metadata": {},
   "outputs": [
    {
     "data": {
      "image/png": "[encoded data removed]",
      "text/plain": [
       "<Figure size 432x288 with 1 Axes>"
      ]
     },
     "metadata": {
      "needs_background": "light"
     },
     "output_type": "display_data"
    }
   ],
   "source": [
    "#Plotting the sampling distributions with rejection regions\n",
    "\n",
    "x_min_2=3.5\n",
    "x_max_2=4.5\n",
    "\n",
    "#Defining the sampling distribution mean and sampling distribution std\n",
    "mean_2=pop_mean_2\n",
    "std_2=sample_std_2/(sample_size_2**0.5)\n",
    "\n",
    "#Plotting the graph and setting the x limits\n",
    "x_2=np.linspace(x_min_2,x_max_2,100)\n",
    "y_2=norm.pdf(x_2,mean_2,std_2)\n",
    "plt.xlim(x_min_2,x_max_2)\n",
    "plt.plot(x_2,y_2)\n",
    "\n",
    "#Computing the critical right value(Right tailed test)\n",
    "t_critical_right_2=pop_mean_2+(t_critical_2*std_2)\n",
    "\n",
    "#Shading the right rejection region\n",
    "x2=np.linspace(t_critical_right_2,x_max_2,100)\n",
    "y2=norm.pdf(x2,mean_2,std_2)\n",
    "plt.fill_between(x2,y2,color='orange')\n",
    "\n",
    "#Plotting the sample mean and concuding the results\n",
    "plt.scatter(sample_mean_2,0)\n",
    "plt.annotate(\"x_bar\",(sample_mean_2,0.1))\n",
    "plt.show()\n",
    "#In this case the sample mean does not fall in the rejection region\n",
    "#i.e. here we fail to reject he null hypothesis"
   ]
  },
  {
   "cell_type": "code",
   "execution_count": 39,
   "metadata": {},
   "outputs": [
    {
     "name": "stdout",
     "output_type": "stream",
     "text": [
      "Fail to reject the Null Hypothesis\n"
     ]
    }
   ],
   "source": [
    "#Conclusion using t test\n",
    "\n",
    "if(t_2 > t_critical_2):\n",
    "    print(\"Reject the Null Hypotehsis\")\n",
    "else:\n",
    "    print(\"Fail to reject the Null Hypothesis\")"
   ]
  },
  {
   "cell_type": "code",
   "execution_count": 40,
   "metadata": {},
   "outputs": [
    {
     "name": "stdout",
     "output_type": "stream",
     "text": [
      "p_value =  0.08876492620607679\n",
      "Fail to reject Null Hypothesis\n"
     ]
    }
   ],
   "source": [
    "# Conclusion using p test\n",
    "\n",
    "p_value_2 = 1.0 - norm.cdf(np.abs(t_2))\n",
    "\n",
    "print(\"p_value = \", p_value_2)\n",
    "\n",
    "if(p_value_2 < alpha_2):\n",
    "    print(\"Reject Null Hypothesis\")\n",
    "else:\n",
    "    print(\"Fail to reject Null Hypothesis\")"
   ]
  },
  {
   "cell_type": "markdown",
   "metadata": {},
   "source": [
    "**Q-3: TATA has developed a better fuel management system for the SUV segment. They claim that with this system, on average the SUV's mileage is at least 15 km/litre?** "
   ]
  },
  {
   "cell_type": "markdown",
   "metadata": {},
   "source": [
    "Step-1:    \n",
    "Alternate Hypothesis (Bold Claim): $$H_{1}: \\mu > 15 $$ Null Hypothesis (Status Quo): $$H_{0}: \\mu <= 15$$\n",
    "                \n",
    "Step - 2:\n",
    "\n",
    "Collect a sample of size n = 20 $$ [14.8,14.13,15.65,13.78,16.26,14.97,15.36,15.81,14.53,16.79,15.78,16.98,13.23,15.4,15.46,13.88,14.31,14.41,15.7,15.38] $$\n",
    "Compute sample mean $$ \\bar{x} \\ = \\ 15.130499999999998 $$\n",
    "\n",
    "Step - 3: Compute Test Statistic: $$ t = \\frac{\\bar{x} - \\mu}{s/\\sqrt{n}}$$\n",
    "\n",
    "Step - 4: Decide $ \\alpha $ or significance level\n",
    "\n",
    "Step-5.1:Two tailed t-statistics \n",
    "$$reject \\ H_{0}\\ if \\\\|t|>;t_{n-1,\\alpha}$$\n",
    "\n",
    "Step - 5.2: Compute p-value"
   ]
  },
  {
   "cell_type": "code",
   "execution_count": 42,
   "metadata": {},
   "outputs": [
    {
     "data": {
      "text/plain": [
       "15.130499999999998"
      ]
     },
     "execution_count": 42,
     "metadata": {},
     "output_type": "execute_result"
    }
   ],
   "source": [
    "len_3=[14.8,14.13,15.65,13.78,16.26,14.97,15.36,15.81,14.53,16.79,15.78,16.98,13.23,15.4,15.46,13.88,14.31,14.41,15.7,15.38]\n",
    "sum(len_3)/len(len_3)"
   ]
  },
  {
   "cell_type": "code",
   "execution_count": 43,
   "metadata": {},
   "outputs": [
    {
     "name": "stdout",
     "output_type": "stream",
     "text": [
      "1.8331129326536335\n"
     ]
    }
   ],
   "source": [
    "#Right tail test- Calculating the t-critical value\n",
    "\n",
    "from scipy.stats import t\n",
    "\n",
    "confidence_level_3 = 0.95\n",
    "alpha_3 = 1-confidence_level_3\n",
    "t_critical_3 = t.ppf(1-alpha_3, df = 9)\n",
    "print(t_critical_3)"
   ]
  },
  {
   "cell_type": "code",
   "execution_count": 44,
   "metadata": {},
   "outputs": [
    {
     "data": {
      "text/plain": [
       "0.9724375301272571"
      ]
     },
     "execution_count": 44,
     "metadata": {},
     "output_type": "execute_result"
    }
   ],
   "source": [
    "standard_deviation(len_3)"
   ]
  },
  {
   "cell_type": "code",
   "execution_count": 45,
   "metadata": {},
   "outputs": [],
   "source": [
    "sample_size_3 = 20\n",
    "sample_mean_3 = 15.130499999999998\n",
    "pop_mean_3 = 15\n",
    "sample_std_3 = 0.9724375301272571"
   ]
  },
  {
   "cell_type": "code",
   "execution_count": 46,
   "metadata": {},
   "outputs": [
    {
     "name": "stdout",
     "output_type": "stream",
     "text": [
      "0.6001555102990127\n"
     ]
    }
   ],
   "source": [
    "t_3=t_score(sample_mean_3,pop_mean_3,sample_std_3,sample_size_3)\n",
    "print(t_3)"
   ]
  },
  {
   "cell_type": "code",
   "execution_count": 47,
   "metadata": {},
   "outputs": [
    {
     "data": {
      "image/png": "[encoded data removed]",
      "text/plain": [
       "<Figure size 432x288 with 1 Axes>"
      ]
     },
     "metadata": {
      "needs_background": "light"
     },
     "output_type": "display_data"
    }
   ],
   "source": [
    "#Plotting the graph-\n",
    "\n",
    "x_min_3=13\n",
    "x_max_3=17\n",
    "\n",
    "mean_3=pop_mean_3\n",
    "std_3=sample_std_3/(sample_size_3**0.5)\n",
    "\n",
    "x_3=np.linspace(x_min_3,x_max_3,100)\n",
    "y_3=norm.pdf(x_3,mean_3,std_3)\n",
    "\n",
    "plt.xlim(x_min_3,x_max_3)\n",
    "plt.plot(x_3,y_3)\n",
    "\n",
    "t_critical_right_3=pop_mean_3+(t_critical_3*std_3)\n",
    "\n",
    "x3=np.linspace(t_critical_right_3,x_max_3,100)\n",
    "y3=norm.pdf(x3,mean_3,std_3)\n",
    "plt.fill_between(x3,y3,color='orange')\n",
    "\n",
    "plt.scatter(sample_mean_3,0)\n",
    "plt.annotate(\"x_bar\",(sample_mean_3,0.1))\n",
    "plt.show()"
   ]
  },
  {
   "cell_type": "code",
   "execution_count": 48,
   "metadata": {},
   "outputs": [
    {
     "name": "stdout",
     "output_type": "stream",
     "text": [
      "Fail to reject the Null Hypothesis\n"
     ]
    }
   ],
   "source": [
    "#Conclusion using t test\n",
    "\n",
    "if(t_3 > t_critical_3):\n",
    "    print(\"Reject the Null Hypotehsis\")\n",
    "else:\n",
    "    print(\"Fail to reject the Null Hypothesis\")"
   ]
  },
  {
   "cell_type": "code",
   "execution_count": 49,
   "metadata": {},
   "outputs": [
    {
     "name": "stdout",
     "output_type": "stream",
     "text": [
      "p_value =  0.27420130031012957\n",
      "Fail to reject Null Hypothesis\n"
     ]
    }
   ],
   "source": [
    "# Conclusion using p test\n",
    "\n",
    "p_value_3 = 1.0 - norm.cdf(np.abs(t_3))\n",
    "\n",
    "print(\"p_value = \", p_value_3)\n",
    "\n",
    "if(p_value_3 < alpha_3):\n",
    "    print(\"Reject Null Hypothesis\")\n",
    "else:\n",
    "    print(\"Fail to reject Null Hypothesis\")"
   ]
  },
  {
   "cell_type": "markdown",
   "metadata": {},
   "source": [
    "**Q-4: You have developed a new Machine Learning Application and claim that on average it takes less than 100 ms to predict for any future datapoint. How do you convince your client about this claim?**"
   ]
  },
  {
   "cell_type": "markdown",
   "metadata": {},
   "source": [
    "Step-1:    \n",
    "Alternate Hypothesis (Bold Claim): $$H_{1}: \\mu < 100 $$ Null Hypothesis (Status Quo): $$H_{0}: \\mu >= 100$$\n",
    "                \n",
    "Step - 2:\n",
    "\n",
    "Collect a sample of size n = 100 \n",
    "Compute sample mean $$ \\bar{x} \\ = \\ 99.25 $$\n",
    "\n",
    "Step - 3: Compute Test Statistic: $$ t = \\frac{\\bar{x} - \\mu}{s/\\sqrt{n}}$$\n",
    "\n",
    "Step - 4: Decide $ \\alpha $ or significance level\n",
    "\n",
    "Step-5.1:Two tailed t-statistics \n",
    "$$reject \\ H_{0}\\ if \\\\|t|<;t_{n-1,\\alpha}$$\n",
    "\n",
    "Step - 5.2: Compute p-value"
   ]
  },
  {
   "cell_type": "code",
   "execution_count": 50,
   "metadata": {},
   "outputs": [
    {
     "data": {
      "text/plain": [
       "[104,\n",
       " 101,\n",
       " 96,\n",
       " 104,\n",
       " 103,\n",
       " 102,\n",
       " 97,\n",
       " 96,\n",
       " 100,\n",
       " 102,\n",
       " 95,\n",
       " 98,\n",
       " 99,\n",
       " 96,\n",
       " 101,\n",
       " 95,\n",
       " 102,\n",
       " 100,\n",
       " 103,\n",
       " 95]"
      ]
     },
     "execution_count": 50,
     "metadata": {},
     "output_type": "execute_result"
    }
   ],
   "source": [
    "from numpy import random\n",
    "\n",
    "x = random.randint(95,105, size = (100))\n",
    "len_4 = list(x)\n",
    "len_4[:20]"
   ]
  },
  {
   "cell_type": "code",
   "execution_count": 51,
   "metadata": {},
   "outputs": [
    {
     "data": {
      "text/plain": [
       "99.95"
      ]
     },
     "execution_count": 51,
     "metadata": {},
     "output_type": "execute_result"
    }
   ],
   "source": [
    "sum(len_4)/len(len_4)"
   ]
  },
  {
   "cell_type": "code",
   "execution_count": 53,
   "metadata": {},
   "outputs": [
    {
     "name": "stdout",
     "output_type": "stream",
     "text": [
      "2.3646058614359737\n"
     ]
    }
   ],
   "source": [
    "#Left tail test\n",
    "\n",
    "confidencelevel_4 = 0.99\n",
    "alpha_4 = 1 - confidencelevel_4\n",
    "t_critical_4 = t.ppf(1-alpha_4,df=99)\n",
    "print(t_critical_4)"
   ]
  },
  {
   "cell_type": "code",
   "execution_count": 54,
   "metadata": {},
   "outputs": [
    {
     "data": {
      "text/plain": [
       "2.871846096154878"
      ]
     },
     "execution_count": 54,
     "metadata": {},
     "output_type": "execute_result"
    }
   ],
   "source": [
    "standard_deviation(len_4)"
   ]
  },
  {
   "cell_type": "code",
   "execution_count": 55,
   "metadata": {},
   "outputs": [],
   "source": [
    "sample_size_4 = 100\n",
    "sample_mean_4 = 99.25\n",
    "pop_mean_4 = 100\n",
    "sample_std_4 = 2.7472713735632306"
   ]
  },
  {
   "cell_type": "code",
   "execution_count": 56,
   "metadata": {},
   "outputs": [
    {
     "name": "stdout",
     "output_type": "stream",
     "text": [
      "-2.729981490788239\n"
     ]
    }
   ],
   "source": [
    "t_4=t_score(sample_mean_4,pop_mean_4,sample_std_4,sample_size_4)\n",
    "print(t_4)"
   ]
  },
  {
   "cell_type": "code",
   "execution_count": 57,
   "metadata": {},
   "outputs": [
    {
     "data": {
      "image/png": "[encoded data removed]",
      "text/plain": [
       "<Figure size 432x288 with 1 Axes>"
      ]
     },
     "metadata": {
      "needs_background": "light"
     },
     "output_type": "display_data"
    }
   ],
   "source": [
    "#Plotting the graph\n",
    "\n",
    "x_min_4=95\n",
    "x_max_4=105\n",
    "\n",
    "mean_4=pop_mean_4\n",
    "std_4=sample_std_4/(sample_size_4**0.5)\n",
    "\n",
    "x4=np.linspace(x_min_4,x_max_4,100)\n",
    "y4=norm.pdf(x4,mean_4,std_4)\n",
    "\n",
    "plt.xlim(x_min_4,x_max_4)\n",
    "plt.plot(x4,y4)\n",
    "\n",
    "t_critical_left_4=pop_mean_4+(-t_critical_4*std)\n",
    "\n",
    "x4=np.linspace(x_min_4,t_critical_left_4,100)\n",
    "y4=norm.pdf(x4,mean_4,std_4)\n",
    "plt.fill_between(x4,y4,color='orange')\n",
    "\n",
    "plt.scatter(sample_mean_4,0)\n",
    "plt.annotate(\"x_bar\",(sample_mean_4,0.02))\n",
    "plt.show()"
   ]
  },
  {
   "cell_type": "code",
   "execution_count": 58,
   "metadata": {},
   "outputs": [
    {
     "name": "stdout",
     "output_type": "stream",
     "text": [
      "Reject Null Hypothesis\n"
     ]
    }
   ],
   "source": [
    "if(t_4<t_critical_4):\n",
    "    print(\"Reject Null Hypothesis\")\n",
    "else:\n",
    "    print(\"Fail to reject the Null Hypothesis\")"
   ]
  },
  {
   "cell_type": "code",
   "execution_count": 62,
   "metadata": {},
   "outputs": [
    {
     "name": "stdout",
     "output_type": "stream",
     "text": [
      "p_value =  0.00316689407757631\n",
      "Reject Null Hypothesis\n"
     ]
    }
   ],
   "source": [
    "p_value_4 = 1.0-norm.cdf(np.abs(t_4))\n",
    "print(\"p_value = \",p_value_4)\n",
    "\n",
    "if(p_value_4 < alpha_4):\n",
    "    print(\"Reject Null Hypothesis\")\n",
    "else:\n",
    "    print(\"Fail to reject Null Hypothesis\")"
   ]
  },
  {
   "cell_type": "code",
   "execution_count": null,
   "metadata": {},
   "outputs": [],
   "source": []
  }
 ],
 "metadata": {
  "kernelspec": {
   "display_name": "Python 3",
   "language": "python",
   "name": "python3"
  },
  "language_info": {
   "codemirror_mode": {
    "name": "ipython",
    "version": 3
   },
   "file_extension": ".py",
   "mimetype": "text/x-python",
   "name": "python",
   "nbconvert_exporter": "python",
   "pygments_lexer": "ipython3",
   "version": "3.7.6"
  }
 },
 "nbformat": 4,
 "nbformat_minor": 4
}
