{
 "cells": [
  {
   "cell_type": "markdown",
   "metadata": {},
   "source": [
    "## Arrays"
   ]
  },
  {
   "cell_type": "markdown",
   "metadata": {},
   "source": [
    "**Task**\n",
    "\n",
    "You are given a space separated list of numbers.\n",
    "Your task is to print a reversed NumPy array with the element type float.\n",
    "\n",
    "*Input Format*\n",
    "\n",
    "A single line of input containing space separated numbers.\n",
    "\n",
    "*Output Format*\n",
    "\n",
    "Print the reverse NumPy array with type float."
   ]
  },
  {
   "cell_type": "code",
   "execution_count": 8,
   "metadata": {},
   "outputs": [
    {
     "name": "stdout",
     "output_type": "stream",
     "text": [
      "1 2 3 4 -8 -10\n",
      "[-10.  -8.   4.   3.   2.   1.]\n"
     ]
    }
   ],
   "source": [
    "import numpy\n",
    "\n",
    "def arrays(arr):\n",
    "    return(numpy.array(arr[::-1], float))\n",
    "    \n",
    "\n",
    "arr = input().strip().split(' ')\n",
    "result = arrays(arr)\n",
    "print(result)"
   ]
  },
  {
   "cell_type": "markdown",
   "metadata": {},
   "source": [
    "## Shape and Reshape"
   ]
  },
  {
   "cell_type": "markdown",
   "metadata": {},
   "source": [
    "**shape**\n",
    "\n",
    "The shape tool gives a tuple of array dimensions and can be used to change the dimensions of an array.\n",
    "\n",
    "**reshape**\n",
    "\n",
    "The reshape tool gives a new shape to an array without changing its data. It creates a new array and does not modify the original array itself. "
   ]
  },
  {
   "cell_type": "code",
   "execution_count": 14,
   "metadata": {},
   "outputs": [
    {
     "name": "stdout",
     "output_type": "stream",
     "text": [
      "1 2 3 4 5 6 7 8 9\n",
      "[[1 2 3]\n",
      " [4 5 6]\n",
      " [7 8 9]]\n"
     ]
    }
   ],
   "source": [
    "import numpy as np\n",
    "\n",
    "print(np.array(input().split(), int).reshape(3,3))"
   ]
  },
  {
   "cell_type": "markdown",
   "metadata": {},
   "source": [
    "## Transpose and Flatten"
   ]
  },
  {
   "cell_type": "code",
   "execution_count": 36,
   "metadata": {},
   "outputs": [
    {
     "name": "stdout",
     "output_type": "stream",
     "text": [
      "2 2\n",
      "1 3\n",
      "3 4\n",
      "[[1 3]\n",
      " [3 4]]\n",
      "[1 3 3 4]\n"
     ]
    }
   ],
   "source": [
    "import numpy\n",
    "N,M = [int(x) for x in input().strip().split()]\n",
    "arr = []\n",
    "for _ in range(N):\n",
    "    arr.append([int(x) for x in input().strip().split()])\n",
    "print(numpy.transpose(arr))\n",
    "print(numpy.array(arr).flatten())"
   ]
  },
  {
   "cell_type": "markdown",
   "metadata": {},
   "source": [
    "## Concatenate"
   ]
  },
  {
   "cell_type": "code",
   "execution_count": 45,
   "metadata": {},
   "outputs": [
    {
     "name": "stdout",
     "output_type": "stream",
     "text": [
      "4 3 2\n",
      "1 2\n",
      "1 2\n",
      "1 2\n",
      "1 2\n",
      "1 2\n",
      "3 4\n",
      "3 4\n",
      "[[1 2]\n",
      " [1 2]\n",
      " [1 2]\n",
      " [1 2]\n",
      " [1 2]\n",
      " [3 4]\n",
      " [3 4]]\n"
     ]
    }
   ],
   "source": [
    "import numpy as np\n",
    "n,m,p = map(int, input().split())\n",
    "arr1 = np.array([input().split()  for _ in range(n)],int )\n",
    "arr2 = np.array([input().split()  for _ in range(m)],int )\n",
    "\n",
    "print(np.concatenate((arr1,arr2),axis =0))"
   ]
  },
  {
   "cell_type": "markdown",
   "metadata": {},
   "source": [
    "## Zeros and Ones"
   ]
  },
  {
   "cell_type": "code",
   "execution_count": 15,
   "metadata": {},
   "outputs": [
    {
     "name": "stdout",
     "output_type": "stream",
     "text": [
      "3 3 3\n",
      "[[[0 0 0]\n",
      "  [0 0 0]\n",
      "  [0 0 0]]\n",
      "\n",
      " [[0 0 0]\n",
      "  [0 0 0]\n",
      "  [0 0 0]]\n",
      "\n",
      " [[0 0 0]\n",
      "  [0 0 0]\n",
      "  [0 0 0]]]\n",
      "[[[1 1 1]\n",
      "  [1 1 1]\n",
      "  [1 1 1]]\n",
      "\n",
      " [[1 1 1]\n",
      "  [1 1 1]\n",
      "  [1 1 1]]\n",
      "\n",
      " [[1 1 1]\n",
      "  [1 1 1]\n",
      "  [1 1 1]]]\n"
     ]
    }
   ],
   "source": [
    "import numpy as np\n",
    "N = tuple(map(int, input().split()))\n",
    "print(np.zeros(N,int))\n",
    "print(np.ones(N,int))"
   ]
  },
  {
   "cell_type": "markdown",
   "metadata": {},
   "source": [
    "## Eye and Identity\n",
    "\n"
   ]
  },
  {
   "cell_type": "code",
   "execution_count": 57,
   "metadata": {},
   "outputs": [
    {
     "name": "stdout",
     "output_type": "stream",
     "text": [
      "3 3\n",
      "[[ 1.  0.  0.]\n",
      " [ 0.  1.  0.]\n",
      " [ 0.  0.  1.]]\n"
     ]
    }
   ],
   "source": [
    "import numpy as np\n",
    "np.set_printoptions(sign=' ')\n",
    "N,M = map(int,  input().split())\n",
    "print(np.eye(N,M))"
   ]
  },
  {
   "cell_type": "markdown",
   "metadata": {},
   "source": [
    "## Array Mathematics\n",
    "\n"
   ]
  },
  {
   "cell_type": "code",
   "execution_count": 60,
   "metadata": {},
   "outputs": [
    {
     "name": "stdout",
     "output_type": "stream",
     "text": [
      "1 4\n",
      "1 2 3 4\n",
      "5 6 7 8\n",
      "[[ 6  8 10 12]]\n",
      "[[-4 -4 -4 -4]]\n",
      "[[ 5 12 21 32]]\n",
      "[[0 0 0 0]]\n",
      "[[1 2 3 4]]\n",
      "[[    1    64  2187 65536]]\n"
     ]
    }
   ],
   "source": [
    "import numpy as np\n",
    "def arrays(arr, arr1, arr2):\n",
    "    arr = np.array(arr, dtype = int)\n",
    "    arr1 = np.array([arr1], dtype = int)\n",
    "    arr2 = np.array([arr2], dtype = int)\n",
    "\n",
    "    add = np.add(arr1,arr2)\n",
    "    sub = np.subtract(arr1,arr2)\n",
    "    mul = np.multiply(arr1,arr2)\n",
    "    div = np.floor_divide(arr1,arr2)\n",
    "    mod = np.mod(arr1,arr2)\n",
    "    power = np.power(arr1, arr2)\n",
    "    return add, sub, mul, div, mod, power\n",
    "\n",
    "arr = input().strip().split(' ')\n",
    "arr1 = input().strip().split(' ')\n",
    "arr2 = input().strip().split(' ')\n",
    "add, sub, mul, div, mod, power = arrays(arr, arr1, arr2)\n",
    "print(add)\n",
    "print(sub)\n",
    "print(mul)\n",
    "print(div)\n",
    "print(mod)\n",
    "print(power)"
   ]
  },
  {
   "cell_type": "markdown",
   "metadata": {},
   "source": [
    "<h2>Floor, Ceil and Rint</h2>"
   ]
  },
  {
   "cell_type": "code",
   "execution_count": 67,
   "metadata": {},
   "outputs": [
    {
     "name": "stdout",
     "output_type": "stream",
     "text": [
      "1.1 2.2 3.3\n",
      "[ 1.  2.  3.]\n",
      "[ 2.  3.  4.]\n",
      "[ 1.  2.  3.]\n"
     ]
    }
   ],
   "source": [
    "import numpy as np\n",
    "\n",
    "N = np.array(input().split(), float)\n",
    "\n",
    "print(np.floor(N), np.ceil(N), np.rint(N), sep = '\\n')"
   ]
  },
  {
   "cell_type": "markdown",
   "metadata": {},
   "source": [
    "<h2>Sum and Prod</h2>"
   ]
  },
  {
   "cell_type": "code",
   "execution_count": 71,
   "metadata": {},
   "outputs": [
    {
     "name": "stdout",
     "output_type": "stream",
     "text": [
      "2 2 \n",
      "1 2\n",
      "3 4\n",
      "24\n"
     ]
    }
   ],
   "source": [
    "import numpy\n",
    "\n",
    "N, M = map(int, input().split())\n",
    "\n",
    "array = numpy.array([input().split() for i in range(N)], int)\n",
    "\n",
    "print(numpy.prod(numpy.sum(array, axis = 0), axis = None))"
   ]
  },
  {
   "cell_type": "markdown",
   "metadata": {},
   "source": [
    "## Min and Max\n",
    "\n"
   ]
  },
  {
   "cell_type": "code",
   "execution_count": 74,
   "metadata": {},
   "outputs": [
    {
     "name": "stdout",
     "output_type": "stream",
     "text": [
      "1 2\n",
      "3 4\n",
      "3\n"
     ]
    }
   ],
   "source": [
    "import numpy as np\n",
    "N,M = map(int, input().split())\n",
    "A = np.array([input().split() for i in range(N)], dtype = int)\n",
    "C = np.max(np.min(A, axis = 1), axis = 0)\n",
    "print(C)"
   ]
  },
  {
   "cell_type": "markdown",
   "metadata": {},
   "source": [
    "<h2>Mean, Var, and Std\n",
    "\n",
    "</h2>"
   ]
  },
  {
   "cell_type": "code",
   "execution_count": 3,
   "metadata": {},
   "outputs": [
    {
     "name": "stdout",
     "output_type": "stream",
     "text": [
      "4 5\n",
      "5 6\n",
      "7 8\n",
      "9 10\n",
      "3 4\n",
      "[5.5 7.5 9.5 3.5]\n",
      "[5. 5.]\n",
      "2.29128784747792\n"
     ]
    }
   ],
   "source": [
    "import numpy as np\n",
    "N,M = map(int, input().split())\n",
    "A = np.array([input().split() for _ in range(N)], dtype = int)\n",
    "print(np.mean(A, axis =1))\n",
    "print(np.var(A, axis = 0))\n",
    "print(np.std(A))"
   ]
  },
  {
   "cell_type": "code",
   "execution_count": 4,
   "metadata": {},
   "outputs": [
    {
     "name": "stdout",
     "output_type": "stream",
     "text": [
      "4 5\n",
      "6 7\n",
      "8 9\n",
      "10 11\n",
      "5 6\n",
      "[ 6.5  8.5 10.5  5.5]\n",
      "[3.6875 3.6875]\n",
      "1.984313483298443\n"
     ]
    }
   ],
   "source": [
    "import numpy as np\n",
    "n, m = map(int, input().split())\n",
    "list1 = []\n",
    "for i in range(n):\n",
    "    l = list(map(int, input().split()))\n",
    "    list1.append(l)\n",
    "arr = np.array(list1)\n",
    "np.set_printoptions(legacy = '1.13')\n",
    "print(np.mean(arr, axis = 1))\n",
    "print(np.var(arr, axis = 0))\n",
    "print(np.std(arr, axis = None))\n",
    "\n",
    "\n",
    "\n",
    "    "
   ]
  },
  {
   "cell_type": "code",
   "execution_count": 5,
   "metadata": {},
   "outputs": [
    {
     "name": "stdout",
     "output_type": "stream",
     "text": [
      "2 2\n",
      "1 2\n",
      "3 4\n",
      "[1.5 3.5]\n",
      "[1. 1.]\n",
      "1.11803398875\n"
     ]
    }
   ],
   "source": [
    "import numpy as np\n",
    "#np.set_printoptions(legacy = '1.13')\n",
    "n, m = map(int, input().split())\n",
    "\n",
    "arr = np.array([input().split() for _ in range(n)], float)\n",
    "print(np.mean(arr, axis = 1))\n",
    "print(np.var(arr, axis = 0))\n",
    "arr=np.std(arr,axis=None)\n",
    "print(np.around(arr,decimals=11))"
   ]
  },
  {
   "cell_type": "markdown",
   "metadata": {},
   "source": [
    "<h2>Dot and Cross</h2>"
   ]
  },
  {
   "cell_type": "code",
   "execution_count": 72,
   "metadata": {},
   "outputs": [
    {
     "name": "stdout",
     "output_type": "stream",
     "text": [
      "2\n",
      "1 2\n",
      "3 4\n",
      "1 2\n",
      "3 4\n",
      "[[ 7 10]\n",
      " [15 22]]\n"
     ]
    }
   ],
   "source": [
    "import numpy as np\n",
    "N = int(input())\n",
    "A = np.array([input().split() for i in range(N)], dtype = int)\n",
    "B = np.array([input().split() for i in range(N)], dtype = int)\n",
    "C = np.dot(A,B)\n",
    "print(C)"
   ]
  },
  {
   "cell_type": "markdown",
   "metadata": {},
   "source": [
    "## Inner and Outer"
   ]
  },
  {
   "cell_type": "code",
   "execution_count": 1,
   "metadata": {},
   "outputs": [
    {
     "name": "stdout",
     "output_type": "stream",
     "text": [
      "1 2\n",
      "3 4\n",
      "------------\n",
      "11\n",
      "------------\n",
      "[[3 4]\n",
      " [6 8]]\n"
     ]
    }
   ],
   "source": [
    "import numpy as np\n",
    "A = np.array(input().split(), int)\n",
    "B = np.array(input().split(), int)\n",
    "print(\"------------\")\n",
    "print(np.inner(A,B))\n",
    "print(\"------------\")\n",
    "print(np.outer(A,B))"
   ]
  },
  {
   "cell_type": "markdown",
   "metadata": {},
   "source": [
    "## Polynomials"
   ]
  },
  {
   "cell_type": "code",
   "execution_count": 58,
   "metadata": {},
   "outputs": [
    {
     "name": "stdout",
     "output_type": "stream",
     "text": [
      "1.1 2 3\n",
      "0\n",
      "3.0\n"
     ]
    }
   ],
   "source": [
    "import numpy as np\n",
    "arr = [float(x) for x in input().split()]\n",
    "x = float(input())\n",
    "\n",
    "print(np.polyval(arr, x))"
   ]
  },
  {
   "cell_type": "markdown",
   "metadata": {},
   "source": [
    "## Linear Algebra "
   ]
  },
  {
   "cell_type": "code",
   "execution_count": 52,
   "metadata": {},
   "outputs": [
    {
     "name": "stdout",
     "output_type": "stream",
     "text": [
      "1.1 2 3\n",
      "0\n",
      "3.0\n"
     ]
    }
   ],
   "source": [
    "import numpy as np\n",
    "arr = [float(x) for x in input().split()]\n",
    "x = float(input())\n",
    "\n",
    "print(np.polyval(arr, x))"
   ]
  },
  {
   "cell_type": "code",
   "execution_count": null,
   "metadata": {},
   "outputs": [],
   "source": []
  }
 ],
 "metadata": {
  "kernelspec": {
   "display_name": "Python 3",
   "language": "python",
   "name": "python3"
  },
  "language_info": {
   "codemirror_mode": {
    "name": "ipython",
    "version": 3
   },
   "file_extension": ".py",
   "mimetype": "text/x-python",
   "name": "python",
   "nbconvert_exporter": "python",
   "pygments_lexer": "ipython3",
   "version": "3.7.6"
  }
 },
 "nbformat": 4,
 "nbformat_minor": 4
}
